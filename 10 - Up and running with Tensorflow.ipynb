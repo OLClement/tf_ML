{
 "cells": [
  {
   "cell_type": "code",
   "execution_count": 1,
   "metadata": {},
   "outputs": [],
   "source": [
    "import tensorflow as tf"
   ]
  },
  {
   "cell_type": "code",
   "execution_count": 2,
   "metadata": {},
   "outputs": [
    {
     "name": "stdout",
     "output_type": "stream",
     "text": [
      "WARNING:tensorflow:From C:\\Users\\clmen\\Anaconda3\\lib\\site-packages\\tensorflow\\python\\framework\\op_def_library.py:263: colocate_with (from tensorflow.python.framework.ops) is deprecated and will be removed in a future version.\n",
      "Instructions for updating:\n",
      "Colocations handled automatically by placer.\n"
     ]
    }
   ],
   "source": [
    "# set the variables\n",
    "x = tf.Variable(3,name = \"x\")\n",
    "y = tf.Variable(4, name='y')\n",
    "\n",
    "# create the computation graph\n",
    "f = x*x*y+y+2"
   ]
  },
  {
   "cell_type": "code",
   "execution_count": 3,
   "metadata": {},
   "outputs": [
    {
     "name": "stdout",
     "output_type": "stream",
     "text": [
      "42\n"
     ]
    }
   ],
   "source": [
    "# create session\n",
    "sess = tf.Session()\n",
    "\n",
    "# initialize variables\n",
    "sess.run(x.initializer)\n",
    "sess.run(y.initializer)\n",
    "\n",
    "result = sess.run(f)\n",
    "print(result)\n",
    "\n",
    "sess.close()"
   ]
  },
  {
   "cell_type": "code",
   "execution_count": 4,
   "metadata": {},
   "outputs": [
    {
     "data": {
      "text/plain": [
       "42"
      ]
     },
     "execution_count": 4,
     "metadata": {},
     "output_type": "execute_result"
    }
   ],
   "source": [
    "with tf.Session() as sess:\n",
    "    x.initializer.run()\n",
    "    y.initializer.run()\n",
    "    \n",
    "    result = f.eval()\n",
    "result"
   ]
  },
  {
   "cell_type": "code",
   "execution_count": 5,
   "metadata": {},
   "outputs": [
    {
     "data": {
      "text/plain": [
       "42"
      ]
     },
     "execution_count": 5,
     "metadata": {},
     "output_type": "execute_result"
    }
   ],
   "source": [
    "init = tf.global_variables_initializer() # prepare an init node\n",
    "\n",
    "with tf.Session() as sess:\n",
    "    init.run()\n",
    "    result = f.eval()\n",
    "result"
   ]
  },
  {
   "cell_type": "markdown",
   "metadata": {},
   "source": [
    "Any node created is automaticaly added to the default graph"
   ]
  },
  {
   "cell_type": "code",
   "execution_count": 6,
   "metadata": {},
   "outputs": [
    {
     "data": {
      "text/plain": [
       "True"
      ]
     },
     "execution_count": 6,
     "metadata": {},
     "output_type": "execute_result"
    }
   ],
   "source": [
    "x1 = tf.Variable(1)\n",
    "x1.graph is tf.get_default_graph()"
   ]
  },
  {
   "cell_type": "code",
   "execution_count": 7,
   "metadata": {},
   "outputs": [
    {
     "name": "stdout",
     "output_type": "stream",
     "text": [
      "True\n",
      "False\n"
     ]
    }
   ],
   "source": [
    "graph = tf.Graph()\n",
    "with graph.as_default():\n",
    "    # create x2 on the default graph (which is temporarilly graph)\n",
    "    x2 = tf.Variable(2)\n",
    "\n",
    "print(x2.graph is graph)\n",
    "\n",
    "print(x2.graph is tf.get_default_graph())"
   ]
  },
  {
   "cell_type": "code",
   "execution_count": 8,
   "metadata": {},
   "outputs": [
    {
     "name": "stdout",
     "output_type": "stream",
     "text": [
      "10\n",
      "15\n"
     ]
    }
   ],
   "source": [
    "w = tf.constant(3)\n",
    "x = w + 2\n",
    "y = x + 5\n",
    "z = x * 3\n",
    "\n",
    "# run twice x and w.\n",
    "with tf.Session() as sess:\n",
    "    print(y.eval()) # 10\n",
    "    print(z.eval()) # 15"
   ]
  },
  {
   "cell_type": "code",
   "execution_count": 9,
   "metadata": {},
   "outputs": [
    {
     "name": "stdout",
     "output_type": "stream",
     "text": [
      "10\n",
      "15\n"
     ]
    }
   ],
   "source": [
    "# run onl once w and x.\n",
    "with tf.Session() as sess:\n",
    "    y_val, z_val = sess.run([y,z])\n",
    "    print(y_val)\n",
    "    print(z_val)"
   ]
  },
  {
   "cell_type": "markdown",
   "metadata": {},
   "source": [
    "## Keras API"
   ]
  },
  {
   "cell_type": "code",
   "execution_count": 10,
   "metadata": {},
   "outputs": [],
   "source": [
    "from tensorflow import keras"
   ]
  },
  {
   "cell_type": "code",
   "execution_count": 11,
   "metadata": {},
   "outputs": [
    {
     "name": "stdout",
     "output_type": "stream",
     "text": [
      "Downloading data from https://storage.googleapis.com/tensorflow/tf-keras-datasets/train-labels-idx1-ubyte.gz\n",
      "32768/29515 [=================================] - 0s 0us/step\n",
      "Downloading data from https://storage.googleapis.com/tensorflow/tf-keras-datasets/train-images-idx3-ubyte.gz\n",
      "26427392/26421880 [==============================] - 5s 0us/step\n",
      "Downloading data from https://storage.googleapis.com/tensorflow/tf-keras-datasets/t10k-labels-idx1-ubyte.gz\n",
      "8192/5148 [===============================================] - 0s 0us/step\n",
      "Downloading data from https://storage.googleapis.com/tensorflow/tf-keras-datasets/t10k-images-idx3-ubyte.gz\n",
      "4423680/4422102 [==============================] - 1s 0us/step\n"
     ]
    }
   ],
   "source": [
    "fashion_mnist = keras.datasets.fashion_mnist\n",
    "(X_train_full,y_train_full), (X_test,y_test) = fashion_mnist.load_data()"
   ]
  },
  {
   "cell_type": "code",
   "execution_count": 14,
   "metadata": {},
   "outputs": [],
   "source": [
    "X_valid, X_train = X_train_full[:5000]/255.0, X_train_full[5000:]/255.0\n",
    "y_valid, y_train = y_train_full[:5000], y_train_full[5000:]"
   ]
  },
  {
   "cell_type": "code",
   "execution_count": 20,
   "metadata": {},
   "outputs": [
    {
     "data": {
      "image/png": "[encoded data removed]",
      "text/plain": [
       "<Figure size 432x288 with 1 Axes>"
      ]
     },
     "metadata": {
      "needs_background": "light"
     },
     "output_type": "display_data"
    },
    {
     "name": "stdout",
     "output_type": "stream",
     "text": [
      "Coat\n"
     ]
    }
   ],
   "source": [
    "import matplotlib.pyplot as plt\n",
    "\n",
    "class_names = [\"T-shirt/top\", \"Trouser\", \"Pullover\", \"Dress\", \"Coat\",\n",
    "               \"Sandal\", \"Shirt\", \"Sneaker\", \"Bag\", \"Ankle boot\"]\n",
    "\n",
    "\n",
    "def plot_image(img):\n",
    "    plt.imshow(img,cmap='binary')\n",
    "    plt.axis(False)\n",
    "plot_image(X_train[0])\n",
    "plt.show()\n",
    "\n",
    "print(class_names[y_train[0]])"
   ]
  },
  {
   "cell_type": "markdown",
   "metadata": {},
   "source": [
    "## Sequential API\n",
    "#### MLP Regression"
   ]
  },
  {
   "cell_type": "code",
   "execution_count": 24,
   "metadata": {},
   "outputs": [
    {
     "name": "stdout",
     "output_type": "stream",
     "text": [
      "_________________________________________________________________\n",
      "Layer (type)                 Output Shape              Param #   \n",
      "=================================================================\n",
      "flatten_2 (Flatten)          (None, 784)               0         \n",
      "_________________________________________________________________\n",
      "dense_6 (Dense)              (None, 300)               235500    \n",
      "_________________________________________________________________\n",
      "dense_7 (Dense)              (None, 100)               30100     \n",
      "_________________________________________________________________\n",
      "dense_8 (Dense)              (None, 10)                1010      \n",
      "=================================================================\n",
      "Total params: 266,610\n",
      "Trainable params: 266,610\n",
      "Non-trainable params: 0\n",
      "_________________________________________________________________\n"
     ]
    }
   ],
   "source": [
    "model = keras.Sequential() # sequential API\n",
    "\n",
    "# convert input into 1D array = preprocessing. First layer => specify input_shape\n",
    "model.add(keras.layers.Flatten(input_shape=[28,28]))\n",
    "# Fully connected / Dense layer, specify nb units and activation functions.\n",
    "model.add(keras.layers.Dense(300,activation='relu'))\n",
    "model.add(keras.layers.Dense(100,activation='relu'))\n",
    "model.add(keras.layers.Dense(10,activation='softmax'))\n",
    "\n",
    "model.summary()"
   ]
  },
  {
   "cell_type": "code",
   "execution_count": 29,
   "metadata": {},
   "outputs": [
    {
     "data": {
      "text/plain": [
       "[<tensorflow.python.keras.layers.core.Flatten at 0x26786debf60>,\n",
       " <tensorflow.python.keras.layers.core.Dense at 0x26786e11160>,\n",
       " <tensorflow.python.keras.layers.core.Dense at 0x26786e23c50>,\n",
       " <tensorflow.python.keras.layers.core.Dense at 0x26786e23b70>]"
      ]
     },
     "execution_count": 29,
     "metadata": {},
     "output_type": "execute_result"
    }
   ],
   "source": [
    "model.layers"
   ]
  },
  {
   "cell_type": "code",
   "execution_count": 31,
   "metadata": {},
   "outputs": [
    {
     "name": "stdout",
     "output_type": "stream",
     "text": [
      "dense_6\n",
      "dense_6\n"
     ]
    }
   ],
   "source": [
    "print(model.layers[1].name)\n",
    "print(model.get_layer('dense_6').name)"
   ]
  },
  {
   "cell_type": "code",
   "execution_count": 35,
   "metadata": {},
   "outputs": [],
   "source": [
    "# Use sparse_categorical_crossentropy because we have y sparse, cad y = nb between 0 and 9.\n",
    "# It is not one-hot encoded vec.\n",
    "\n",
    "model.compile(loss='sparse_categorical_crossentropy', # or keras.losses.sparse_categorical_crossentropy\n",
    "             optimizer='sgd', # or keras.optimizers.SGD()\n",
    "             metrics=['accuracy']) # or [keras.metrics.sparse_categorical_accuracy]"
   ]
  },
  {
   "cell_type": "code",
   "execution_count": 36,
   "metadata": {
    "scrolled": true
   },
   "outputs": [
    {
     "name": "stdout",
     "output_type": "stream",
     "text": [
      "Train on 55000 samples, validate on 5000 samples\n",
      "Epoch 1/30\n",
      "55000/55000 [==============================] - 7s 130us/sample - loss: 0.7069 - acc: 0.7694 - val_loss: 0.5086 - val_acc: 0.8252\n",
      "Epoch 2/30\n",
      "55000/55000 [==============================] - 7s 121us/sample - loss: 0.4861 - acc: 0.8312 - val_loss: 0.4722 - val_acc: 0.8438\n",
      "Epoch 3/30\n",
      "55000/55000 [==============================] - 6s 111us/sample - loss: 0.4436 - acc: 0.8445 - val_loss: 0.4232 - val_acc: 0.8566\n",
      "Epoch 4/30\n",
      "55000/55000 [==============================] - 6s 110us/sample - loss: 0.4177 - acc: 0.8539 - val_loss: 0.4057 - val_acc: 0.8648\n",
      "Epoch 5/30\n",
      "55000/55000 [==============================] - 6s 111us/sample - loss: 0.3972 - acc: 0.8612 - val_loss: 0.4034 - val_acc: 0.8614\n",
      "Epoch 6/30\n",
      "55000/55000 [==============================] - 6s 107us/sample - loss: 0.3814 - acc: 0.8656 - val_loss: 0.3735 - val_acc: 0.8720\n",
      "Epoch 7/30\n",
      "55000/55000 [==============================] - 6s 107us/sample - loss: 0.3686 - acc: 0.8692 - val_loss: 0.3588 - val_acc: 0.8766\n",
      "Epoch 8/30\n",
      "55000/55000 [==============================] - 6s 108us/sample - loss: 0.3568 - acc: 0.8742 - val_loss: 0.3595 - val_acc: 0.8796\n",
      "Epoch 9/30\n",
      "55000/55000 [==============================] - 6s 115us/sample - loss: 0.3473 - acc: 0.8775 - val_loss: 0.3585 - val_acc: 0.8738\n",
      "Epoch 10/30\n",
      "55000/55000 [==============================] - 6s 112us/sample - loss: 0.3377 - acc: 0.8799 - val_loss: 0.3514 - val_acc: 0.8772\n",
      "Epoch 11/30\n",
      "55000/55000 [==============================] - 6s 109us/sample - loss: 0.3294 - acc: 0.8829 - val_loss: 0.3514 - val_acc: 0.8762\n",
      "Epoch 12/30\n",
      "55000/55000 [==============================] - 6s 107us/sample - loss: 0.3221 - acc: 0.8849 - val_loss: 0.3346 - val_acc: 0.8840\n",
      "Epoch 13/30\n",
      "55000/55000 [==============================] - 6s 111us/sample - loss: 0.3146 - acc: 0.8882 - val_loss: 0.3353 - val_acc: 0.8804\n",
      "Epoch 14/30\n",
      "55000/55000 [==============================] - 6s 114us/sample - loss: 0.3081 - acc: 0.8898 - val_loss: 0.3368 - val_acc: 0.8800\n",
      "Epoch 15/30\n",
      "55000/55000 [==============================] - 7s 118us/sample - loss: 0.3025 - acc: 0.8913 - val_loss: 0.3373 - val_acc: 0.8812\n",
      "Epoch 16/30\n",
      "55000/55000 [==============================] - 7s 135us/sample - loss: 0.2957 - acc: 0.8932 - val_loss: 0.3242 - val_acc: 0.8838\n",
      "Epoch 17/30\n",
      "55000/55000 [==============================] - 7s 134us/sample - loss: 0.2904 - acc: 0.8957 - val_loss: 0.3251 - val_acc: 0.8832\n",
      "Epoch 18/30\n",
      "55000/55000 [==============================] - 8s 137us/sample - loss: 0.2846 - acc: 0.8976 - val_loss: 0.3309 - val_acc: 0.8802\n",
      "Epoch 19/30\n",
      "55000/55000 [==============================] - 8s 137us/sample - loss: 0.2799 - acc: 0.8989 - val_loss: 0.3181 - val_acc: 0.8866\n",
      "Epoch 20/30\n",
      "55000/55000 [==============================] - 8s 138us/sample - loss: 0.2736 - acc: 0.9018 - val_loss: 0.3072 - val_acc: 0.8886\n",
      "Epoch 21/30\n",
      "55000/55000 [==============================] - 8s 140us/sample - loss: 0.2694 - acc: 0.9027 - val_loss: 0.3137 - val_acc: 0.8868\n",
      "Epoch 22/30\n",
      "55000/55000 [==============================] - 8s 141us/sample - loss: 0.2640 - acc: 0.9054 - val_loss: 0.3193 - val_acc: 0.8858\n",
      "Epoch 23/30\n",
      "55000/55000 [==============================] - 8s 144us/sample - loss: 0.2609 - acc: 0.9062 - val_loss: 0.3351 - val_acc: 0.8800\n",
      "Epoch 24/30\n",
      "55000/55000 [==============================] - 8s 144us/sample - loss: 0.2549 - acc: 0.9080 - val_loss: 0.3135 - val_acc: 0.8876\n",
      "Epoch 25/30\n",
      "55000/55000 [==============================] - 8s 147us/sample - loss: 0.2507 - acc: 0.9105 - val_loss: 0.3094 - val_acc: 0.8902\n",
      "Epoch 26/30\n",
      "55000/55000 [==============================] - 9s 162us/sample - loss: 0.2466 - acc: 0.9105 - val_loss: 0.3077 - val_acc: 0.8898\n",
      "Epoch 27/30\n",
      "55000/55000 [==============================] - 8s 149us/sample - loss: 0.2430 - acc: 0.9118 - val_loss: 0.3099 - val_acc: 0.8878\n",
      "Epoch 28/30\n",
      "55000/55000 [==============================] - 9s 160us/sample - loss: 0.2384 - acc: 0.9146 - val_loss: 0.3088 - val_acc: 0.8904\n",
      "Epoch 29/30\n",
      "55000/55000 [==============================] - 8s 149us/sample - loss: 0.2348 - acc: 0.9159 - val_loss: 0.3122 - val_acc: 0.8880\n",
      "Epoch 30/30\n",
      "55000/55000 [==============================] - 8s 147us/sample - loss: 0.2315 - acc: 0.9177 - val_loss: 0.2978 - val_acc: 0.8914\n"
     ]
    }
   ],
   "source": [
    "history = model.fit(X_train,y_train, epochs=30, validation_data=(X_valid,y_valid), verbose=1, batch_size=32)\n",
    "# set class_weight if underrepresented classes"
   ]
  },
  {
   "cell_type": "code",
   "execution_count": 45,
   "metadata": {},
   "outputs": [
    {
     "data": {
      "image/png": "[encoded data removed]",
      "text/plain": [
       "<Figure size 432x288 with 1 Axes>"
      ]
     },
     "metadata": {
      "needs_background": "light"
     },
     "output_type": "display_data"
    }
   ],
   "source": [
    "acc = history.history['acc']\n",
    "val_acc = history.history['val_acc']\n",
    "\n",
    "plt.plot(history.epoch,acc)\n",
    "plt.plot(history.epoch,val_acc)\n",
    "plt.show()"
   ]
  },
  {
   "cell_type": "code",
   "execution_count": 46,
   "metadata": {},
   "outputs": [
    {
     "data": {
      "image/png": "[encoded data removed]",
      "text/plain": [
       "<Figure size 576x360 with 1 Axes>"
      ]
     },
     "metadata": {
      "needs_background": "light"
     },
     "output_type": "display_data"
    }
   ],
   "source": [
    "import pandas as pd\n",
    "\n",
    "pd.DataFrame(history.history).plot(figsize=(8, 5))\n",
    "plt.grid(True)\n",
    "plt.gca().set_ylim(0, 1) # set the vertical range to [0-1]\n",
    "plt.show()"
   ]
  },
  {
   "cell_type": "code",
   "execution_count": 47,
   "metadata": {},
   "outputs": [
    {
     "name": "stdout",
     "output_type": "stream",
     "text": [
      "10000/10000 [==============================] - 0s 47us/sample - loss: 2.5381 - acc: 0.8406\n"
     ]
    },
    {
     "data": {
      "text/plain": [
       "[2.5380618139003768, 0.8406]"
      ]
     },
     "execution_count": 47,
     "metadata": {},
     "output_type": "execute_result"
    }
   ],
   "source": [
    "model.evaluate(X_test,y_test)"
   ]
  },
  {
   "cell_type": "code",
   "execution_count": 55,
   "metadata": {},
   "outputs": [
    {
     "data": {
      "text/plain": [
       "array([[0., 0., 0., 0., 0., 0., 0., 0., 0., 1.],\n",
       "       [0., 0., 1., 0., 0., 0., 0., 0., 0., 0.],\n",
       "       [0., 1., 0., 0., 0., 0., 0., 0., 0., 0.]], dtype=float32)"
      ]
     },
     "execution_count": 55,
     "metadata": {},
     "output_type": "execute_result"
    }
   ],
   "source": [
    "preds = model.predict(X_test[:3])\n",
    "preds"
   ]
  },
  {
   "cell_type": "markdown",
   "metadata": {},
   "source": [
    "#### MLP Regression"
   ]
  },
  {
   "cell_type": "code",
   "execution_count": 105,
   "metadata": {},
   "outputs": [],
   "source": [
    "from sklearn.datasets import fetch_california_housing\n",
    "from sklearn.model_selection import train_test_split\n",
    "from sklearn.preprocessing import StandardScaler\n",
    "\n",
    "housing = fetch_california_housing()\n",
    "\n",
    "X_train_full, X_test, y_train_full, y_test = train_test_split(housing.data, housing.target, random_state=42)\n",
    "X_train, X_valid, y_train, y_valid = train_test_split(X_train_full, y_train_full, random_state=42)\n",
    "\n",
    "scaler = StandardScaler()\n",
    "X_train = scaler.fit_transform(X_train)\n",
    "X_valid = scaler.transform(X_valid)\n",
    "X_test = scaler.transform(X_test)"
   ]
  },
  {
   "cell_type": "code",
   "execution_count": 108,
   "metadata": {
    "scrolled": true
   },
   "outputs": [
    {
     "name": "stdout",
     "output_type": "stream",
     "text": [
      "Train on 11610 samples, validate on 3870 samples\n",
      "Epoch 1/20\n",
      "11610/11610 [==============================] - 1s 96us/sample - loss: 2.3383 - val_loss: 10.3520\n",
      "Epoch 2/20\n",
      "11610/11610 [==============================] - 0s 39us/sample - loss: 1.5459 - val_loss: 3.8200\n",
      "Epoch 3/20\n",
      "11610/11610 [==============================] - 0s 37us/sample - loss: 1.4544 - val_loss: 2.3329\n",
      "Epoch 4/20\n",
      "11610/11610 [==============================] - 0s 37us/sample - loss: 1.4287 - val_loss: 1.8925\n",
      "Epoch 5/20\n",
      "11610/11610 [==============================] - 0s 36us/sample - loss: 1.4135 - val_loss: 1.6704\n",
      "Epoch 6/20\n",
      "11610/11610 [==============================] - 0s 37us/sample - loss: 1.4028 - val_loss: 1.5592\n",
      "Epoch 7/20\n",
      "11610/11610 [==============================] - 0s 37us/sample - loss: 1.3941 - val_loss: 1.5100\n",
      "Epoch 8/20\n",
      "11610/11610 [==============================] - 0s 37us/sample - loss: 1.3872 - val_loss: 1.4835\n",
      "Epoch 9/20\n",
      "11610/11610 [==============================] - 1s 44us/sample - loss: 1.3816 - val_loss: 1.4524\n",
      "Epoch 10/20\n",
      "11610/11610 [==============================] - 0s 38us/sample - loss: 1.3770 - val_loss: 1.4383\n",
      "Epoch 11/20\n",
      "11610/11610 [==============================] - 0s 38us/sample - loss: 1.3728 - val_loss: 1.4294\n",
      "Epoch 12/20\n",
      "11610/11610 [==============================] - 0s 37us/sample - loss: 1.3693 - val_loss: 1.4127\n",
      "Epoch 13/20\n",
      "11610/11610 [==============================] - 0s 36us/sample - loss: 1.3663 - val_loss: 1.4024\n",
      "Epoch 14/20\n",
      "11610/11610 [==============================] - 0s 38us/sample - loss: 1.3639 - val_loss: 1.4249\n",
      "Epoch 15/20\n",
      "11610/11610 [==============================] - 0s 38us/sample - loss: 1.3614 - val_loss: 1.4199\n",
      "Epoch 16/20\n",
      "11610/11610 [==============================] - 0s 37us/sample - loss: 1.3594 - val_loss: 1.4146\n",
      "Epoch 17/20\n",
      "11610/11610 [==============================] - 0s 38us/sample - loss: 1.3575 - val_loss: 1.4051\n",
      "Epoch 18/20\n",
      "11610/11610 [==============================] - 0s 39us/sample - loss: 1.3559 - val_loss: 1.3969\n",
      "Epoch 19/20\n",
      "11610/11610 [==============================] - 0s 37us/sample - loss: 1.3542 - val_loss: 1.4013\n",
      "Epoch 20/20\n",
      "11610/11610 [==============================] - 0s 38us/sample - loss: 1.3532 - val_loss: 1.3979\n"
     ]
    }
   ],
   "source": [
    "model = keras.models.Sequential([\n",
    "    keras.layers.Dense(30, activation=\"relu\", input_shape=X_train.shape[1:]),\n",
    "    keras.layers.Dense(1)\n",
    "])\n",
    "\n",
    "model.compile(loss='mean_squared_error', optimizer=keras.optimizers.SGD(lr=1e-3))\n",
    "\n",
    "history = model.fit(X_train_scaled, y_train, epochs=20, validation_data=(X_valid, y_valid))"
   ]
  },
  {
   "cell_type": "code",
   "execution_count": 109,
   "metadata": {},
   "outputs": [
    {
     "data": {
      "image/png": "[encoded data removed]",
      "text/plain": [
       "<Figure size 576x360 with 1 Axes>"
      ]
     },
     "metadata": {
      "needs_background": "light"
     },
     "output_type": "display_data"
    }
   ],
   "source": [
    "pd.DataFrame(history.history).plot(figsize=(8,5))\n",
    "plt.grid(True)\n",
    "plt.show()"
   ]
  },
  {
   "cell_type": "markdown",
   "metadata": {},
   "source": [
    "## Functionnal API\n",
    "\n",
    "build more complexe architecture with re-use of the inputs in the last layer to keep some simple relations"
   ]
  },
  {
   "cell_type": "code",
   "execution_count": 110,
   "metadata": {},
   "outputs": [],
   "source": [
    "input_ = keras.layers.Input(shape=X_train.shape[1:])\n",
    "hidden1 = keras.layers.Dense(30, activation=\"relu\")(input_)\n",
    "hidden2 = keras.layers.Dense(30, activation=\"relu\")(hidden1)\n",
    "concat = keras.layers.concatenate([input_, hidden2])\n",
    "output = keras.layers.Dense(1)(concat)\n",
    "\n",
    "model = keras.models.Model(inputs=[input_], outputs=[output])"
   ]
  },
  {
   "cell_type": "code",
   "execution_count": 112,
   "metadata": {
    "scrolled": true
   },
   "outputs": [
    {
     "name": "stdout",
     "output_type": "stream",
     "text": [
      "Train on 11610 samples, validate on 3870 samples\n",
      "Epoch 1/20\n",
      "11610/11610 [==============================] - 1s 112us/sample - loss: 1.3524 - val_loss: 1.7758\n",
      "Epoch 2/20\n",
      "11610/11610 [==============================] - 1s 45us/sample - loss: 1.3351 - val_loss: 1.4270\n",
      "Epoch 3/20\n",
      "11610/11610 [==============================] - 0s 43us/sample - loss: 1.3324 - val_loss: 1.3741\n",
      "Epoch 4/20\n",
      "11610/11610 [==============================] - 0s 43us/sample - loss: 1.3319 - val_loss: 1.3497\n",
      "Epoch 5/20\n",
      "11610/11610 [==============================] - 1s 49us/sample - loss: 1.3315 - val_loss: 1.3515\n",
      "Epoch 6/20\n",
      "11610/11610 [==============================] - 1s 49us/sample - loss: 1.3315 - val_loss: 1.3445\n",
      "Epoch 7/20\n",
      "11610/11610 [==============================] - 1s 46us/sample - loss: 1.3312 - val_loss: 1.3380\n",
      "Epoch 8/20\n",
      "11610/11610 [==============================] - 1s 52us/sample - loss: 1.3312 - val_loss: 1.3403\n",
      "Epoch 9/20\n",
      "11610/11610 [==============================] - 1s 49us/sample - loss: 1.3311 - val_loss: 1.3421\n",
      "Epoch 10/20\n",
      "11610/11610 [==============================] - 1s 44us/sample - loss: 1.3310 - val_loss: 1.3480\n",
      "Epoch 11/20\n",
      "11610/11610 [==============================] - 1s 44us/sample - loss: 1.3309 - val_loss: 1.3479\n",
      "Epoch 12/20\n",
      "11610/11610 [==============================] - 1s 45us/sample - loss: 1.3309 - val_loss: 1.3446\n",
      "Epoch 13/20\n",
      "11610/11610 [==============================] - 1s 43us/sample - loss: 1.3308 - val_loss: 1.3429\n",
      "Epoch 14/20\n",
      "11610/11610 [==============================] - 1s 44us/sample - loss: 1.3308 - val_loss: 1.3378\n",
      "Epoch 15/20\n",
      "11610/11610 [==============================] - 0s 42us/sample - loss: 1.3307 - val_loss: 1.3363\n",
      "Epoch 16/20\n",
      "11610/11610 [==============================] - 1s 45us/sample - loss: 1.3305 - val_loss: 1.3413\n",
      "Epoch 17/20\n",
      "11610/11610 [==============================] - 1s 47us/sample - loss: 1.3304 - val_loss: 1.3393\n",
      "Epoch 18/20\n",
      "11610/11610 [==============================] - 1s 44us/sample - loss: 1.3304 - val_loss: 1.3336\n",
      "Epoch 19/20\n",
      "11610/11610 [==============================] - 1s 44us/sample - loss: 1.3304 - val_loss: 1.3305\n",
      "Epoch 20/20\n",
      "11610/11610 [==============================] - 1s 44us/sample - loss: 1.3304 - val_loss: 1.3352\n"
     ]
    }
   ],
   "source": [
    "model.compile(loss='mean_squared_error', optimizer=keras.optimizers.SGD(lr=1e-3))\n",
    "\n",
    "history = model.fit(X_train_scaled, y_train, epochs=20, validation_data=(X_valid, y_valid))"
   ]
  },
  {
   "cell_type": "code",
   "execution_count": 113,
   "metadata": {},
   "outputs": [
    {
     "data": {
      "image/png": "[encoded data removed]",
      "text/plain": [
       "<Figure size 576x360 with 1 Axes>"
      ]
     },
     "metadata": {
      "needs_background": "light"
     },
     "output_type": "display_data"
    }
   ],
   "source": [
    "pd.DataFrame(history.history).plot(figsize=(8,5))\n",
    "plt.grid(True)\n",
    "plt.show()"
   ]
  },
  {
   "cell_type": "markdown",
   "metadata": {},
   "source": [
    "build more complexe architecture spliting the features. Some are use during the whole process and other are use only in the end."
   ]
  },
  {
   "cell_type": "code",
   "execution_count": 114,
   "metadata": {},
   "outputs": [],
   "source": [
    "input_A = keras.layers.Input(shape=[5], name=\"wide_input\")\n",
    "input_B = keras.layers.Input(shape=[6], name=\"deep_input\")\n",
    "hidden1 = keras.layers.Dense(30, activation=\"relu\")(input_B)\n",
    "hidden2 = keras.layers.Dense(30, activation=\"relu\")(hidden1)\n",
    "concat = keras.layers.concatenate([input_A, hidden2])\n",
    "output = keras.layers.Dense(1, name=\"output\")(concat)\n",
    "\n",
    "model = keras.models.Model(inputs=[input_A, input_B], outputs=[output])"
   ]
  },
  {
   "cell_type": "code",
   "execution_count": 116,
   "metadata": {
    "scrolled": true
   },
   "outputs": [
    {
     "name": "stdout",
     "output_type": "stream",
     "text": [
      "Train on 11610 samples, validate on 3870 samples\n",
      "Epoch 1/20\n",
      "11610/11610 [==============================] - 1s 120us/sample - loss: 0.4328 - val_loss: 0.4164\n",
      "Epoch 2/20\n",
      "11610/11610 [==============================] - 1s 48us/sample - loss: 0.4302 - val_loss: 0.4112\n",
      "Epoch 3/20\n",
      "11610/11610 [==============================] - 1s 47us/sample - loss: 0.4279 - val_loss: 0.4111\n",
      "Epoch 4/20\n",
      "11610/11610 [==============================] - 1s 51us/sample - loss: 0.4257 - val_loss: 0.4129\n",
      "Epoch 5/20\n",
      "11610/11610 [==============================] - 1s 59us/sample - loss: 0.4238 - val_loss: 0.4015\n",
      "Epoch 6/20\n",
      "11610/11610 [==============================] - 1s 53us/sample - loss: 0.4216 - val_loss: 0.4171\n",
      "Epoch 7/20\n",
      "11610/11610 [==============================] - 1s 50us/sample - loss: 0.4200 - val_loss: 0.4245\n",
      "Epoch 8/20\n",
      "11610/11610 [==============================] - 1s 46us/sample - loss: 0.4187 - val_loss: 0.4003\n",
      "Epoch 9/20\n",
      "11610/11610 [==============================] - 1s 50us/sample - loss: 0.4171 - val_loss: 0.4039\n",
      "Epoch 10/20\n",
      "11610/11610 [==============================] - 1s 50us/sample - loss: 0.4158 - val_loss: 0.3943\n",
      "Epoch 11/20\n",
      "11610/11610 [==============================] - 1s 49us/sample - loss: 0.4143 - val_loss: 0.4047\n",
      "Epoch 12/20\n",
      "11610/11610 [==============================] - 1s 48us/sample - loss: 0.4132 - val_loss: 0.3985\n",
      "Epoch 13/20\n",
      "11610/11610 [==============================] - 1s 47us/sample - loss: 0.4119 - val_loss: 0.3850\n",
      "Epoch 14/20\n",
      "11610/11610 [==============================] - 1s 46us/sample - loss: 0.4108 - val_loss: 0.3996\n",
      "Epoch 15/20\n",
      "11610/11610 [==============================] - 1s 47us/sample - loss: 0.4096 - val_loss: 0.3973\n",
      "Epoch 16/20\n",
      "11610/11610 [==============================] - 1s 48us/sample - loss: 0.4089 - val_loss: 0.3853\n",
      "Epoch 17/20\n",
      "11610/11610 [==============================] - 1s 46us/sample - loss: 0.4078 - val_loss: 0.3839\n",
      "Epoch 18/20\n",
      "11610/11610 [==============================] - 1s 48us/sample - loss: 0.4067 - val_loss: 0.3925\n",
      "Epoch 19/20\n",
      "11610/11610 [==============================] - 1s 49us/sample - loss: 0.4056 - val_loss: 0.3996\n",
      "Epoch 20/20\n",
      "11610/11610 [==============================] - 1s 50us/sample - loss: 0.4050 - val_loss: 0.3855\n",
      "5160/5160 [==============================] - 0s 24us/sample - loss: 0.3972\n"
     ]
    }
   ],
   "source": [
    "model.compile(loss=\"mse\", optimizer=keras.optimizers.SGD(lr=1e-3))\n",
    "\n",
    "X_train_A, X_train_B = X_train[:, :5], X_train[:, 2:]\n",
    "X_valid_A, X_valid_B = X_valid[:, :5], X_valid[:, 2:]\n",
    "X_test_A, X_test_B = X_test[:, :5], X_test[:, 2:]\n",
    "X_new_A, X_new_B = X_test_A[:3], X_test_B[:3]\n",
    "\n",
    "history = model.fit((X_train_A, X_train_B), y_train, epochs=20,\n",
    "                    validation_data=((X_valid_A, X_valid_B), y_valid))\n",
    "mse_test = model.evaluate((X_test_A, X_test_B), y_test)\n",
    "y_pred = model.predict((X_new_A, X_new_B))"
   ]
  },
  {
   "cell_type": "code",
   "execution_count": 117,
   "metadata": {},
   "outputs": [
    {
     "data": {
      "image/png": "[encoded data removed]",
      "text/plain": [
       "<Figure size 576x360 with 1 Axes>"
      ]
     },
     "metadata": {
      "needs_background": "light"
     },
     "output_type": "display_data"
    }
   ],
   "source": [
    "pd.DataFrame(history.history).plot(figsize=(8,5))\n",
    "plt.grid(True)\n",
    "plt.show()"
   ]
  },
  {
   "cell_type": "markdown",
   "metadata": {},
   "source": [
    "Outputs auxilaires"
   ]
  },
  {
   "cell_type": "code",
   "execution_count": 118,
   "metadata": {},
   "outputs": [],
   "source": [
    "input_A = keras.layers.Input(shape=[5], name=\"wide_input\")\n",
    "input_B = keras.layers.Input(shape=[6], name=\"deep_input\")\n",
    "\n",
    "hidden1 = keras.layers.Dense(30, activation=\"relu\")(input_B)\n",
    "hidden2 = keras.layers.Dense(30, activation=\"relu\")(hidden1)\n",
    "concat = keras.layers.concatenate([input_A, hidden2])\n",
    "\n",
    "output = keras.layers.Dense(1, name=\"output\")(concat)\n",
    "aux_output = keras.layers.Dense(1)(hidden2)\n",
    "\n",
    "model = keras.models.Model(inputs=[input_A, input_B], outputs=[output, aux_output])"
   ]
  },
  {
   "cell_type": "code",
   "execution_count": 119,
   "metadata": {
    "scrolled": true
   },
   "outputs": [
    {
     "name": "stdout",
     "output_type": "stream",
     "text": [
      "Train on 11610 samples, validate on 3870 samples\n",
      "Epoch 1/20\n",
      "11610/11610 [==============================] - 1s 110us/sample - loss: 0.9823 - output_loss: 0.8756 - dense_57_loss: 1.9399 - val_loss: 3.8178 - val_output_loss: 4.0754 - val_dense_57_loss: 1.4825\n",
      "Epoch 2/20\n",
      "11610/11610 [==============================] - 1s 55us/sample - loss: 0.5396 - output_loss: 0.4853 - dense_57_loss: 1.0265 - val_loss: 12.3148 - val_output_loss: 12.9048 - val_dense_57_loss: 6.9424\n",
      "Epoch 3/20\n",
      "11610/11610 [==============================] - 1s 53us/sample - loss: 0.5298 - output_loss: 0.4912 - dense_57_loss: 0.8766 - val_loss: 1.6387 - val_output_loss: 1.7306 - val_dense_57_loss: 0.8047\n",
      "Epoch 4/20\n",
      "11610/11610 [==============================] - 1s 53us/sample - loss: 0.4566 - output_loss: 0.4253 - dense_57_loss: 0.7376 - val_loss: 0.5657 - val_output_loss: 0.4845 - val_dense_57_loss: 1.2964\n",
      "Epoch 5/20\n",
      "11610/11610 [==============================] - 1s 54us/sample - loss: 0.4370 - output_loss: 0.4103 - dense_57_loss: 0.6768 - val_loss: 0.4320 - val_output_loss: 0.3768 - val_dense_57_loss: 0.9287\n",
      "Epoch 6/20\n",
      "11610/11610 [==============================] - 1s 54us/sample - loss: 0.4263 - output_loss: 0.4035 - dense_57_loss: 0.6325 - val_loss: 0.4259 - val_output_loss: 0.3711 - val_dense_57_loss: 0.9195\n",
      "Epoch 7/20\n",
      "11610/11610 [==============================] - 1s 54us/sample - loss: 0.4215 - output_loss: 0.4002 - dense_57_loss: 0.6124 - val_loss: 0.4159 - val_output_loss: 0.3679 - val_dense_57_loss: 0.8488\n",
      "Epoch 8/20\n",
      "11610/11610 [==============================] - 1s 59us/sample - loss: 0.4144 - output_loss: 0.3938 - dense_57_loss: 0.5996 - val_loss: 0.4130 - val_output_loss: 0.3660 - val_dense_57_loss: 0.8340\n",
      "Epoch 9/20\n",
      "11610/11610 [==============================] - 1s 55us/sample - loss: 0.4165 - output_loss: 0.3970 - dense_57_loss: 0.5909 - val_loss: 0.4044 - val_output_loss: 0.3589 - val_dense_57_loss: 0.8136\n",
      "Epoch 10/20\n",
      "11610/11610 [==============================] - 1s 55us/sample - loss: 0.4052 - output_loss: 0.3854 - dense_57_loss: 0.5835 - val_loss: 0.4035 - val_output_loss: 0.3580 - val_dense_57_loss: 0.8140\n",
      "Epoch 11/20\n",
      "11610/11610 [==============================] - 1s 54us/sample - loss: 0.4029 - output_loss: 0.3835 - dense_57_loss: 0.5776 - val_loss: 0.3958 - val_output_loss: 0.3553 - val_dense_57_loss: 0.7604\n",
      "Epoch 12/20\n",
      "11610/11610 [==============================] - 1s 55us/sample - loss: 0.4009 - output_loss: 0.3819 - dense_57_loss: 0.5723 - val_loss: 0.3987 - val_output_loss: 0.3640 - val_dense_57_loss: 0.7098\n",
      "Epoch 13/20\n",
      "11610/11610 [==============================] - 1s 60us/sample - loss: 0.3956 - output_loss: 0.3767 - dense_57_loss: 0.5659 - val_loss: 0.3909 - val_output_loss: 0.3539 - val_dense_57_loss: 0.7243\n",
      "Epoch 14/20\n",
      "11610/11610 [==============================] - 1s 60us/sample - loss: 0.3925 - output_loss: 0.3737 - dense_57_loss: 0.5611 - val_loss: 0.3838 - val_output_loss: 0.3487 - val_dense_57_loss: 0.7005\n",
      "Epoch 15/20\n",
      "11610/11610 [==============================] - 1s 60us/sample - loss: 0.4086 - output_loss: 0.3919 - dense_57_loss: 0.5585 - val_loss: 0.3789 - val_output_loss: 0.3455 - val_dense_57_loss: 0.6797\n",
      "Epoch 16/20\n",
      "11610/11610 [==============================] - 1s 60us/sample - loss: 0.3869 - output_loss: 0.3685 - dense_57_loss: 0.5512 - val_loss: 0.3754 - val_output_loss: 0.3430 - val_dense_57_loss: 0.6662\n",
      "Epoch 17/20\n",
      "11610/11610 [==============================] - 1s 57us/sample - loss: 0.3876 - output_loss: 0.3696 - dense_57_loss: 0.5492 - val_loss: 0.4184 - val_output_loss: 0.3823 - val_dense_57_loss: 0.7431\n",
      "Epoch 18/20\n",
      "11610/11610 [==============================] - 1s 57us/sample - loss: 0.3825 - output_loss: 0.3648 - dense_57_loss: 0.5408 - val_loss: 0.4674 - val_output_loss: 0.4586 - val_dense_57_loss: 0.5465\n",
      "Epoch 19/20\n",
      "11610/11610 [==============================] - 1s 55us/sample - loss: 0.3783 - output_loss: 0.3609 - dense_57_loss: 0.5341 - val_loss: 0.3602 - val_output_loss: 0.3310 - val_dense_57_loss: 0.6228\n",
      "Epoch 20/20\n",
      "11610/11610 [==============================] - 1s 62us/sample - loss: 0.3793 - output_loss: 0.3622 - dense_57_loss: 0.5331 - val_loss: 0.3646 - val_output_loss: 0.3398 - val_dense_57_loss: 0.5879\n"
     ]
    }
   ],
   "source": [
    "# preciser loss pour chaque output, donner un poids\n",
    "model.compile(loss=[\"mse\", \"mse\"], loss_weights=[0.9, 0.1], optimizer=\"sgd\")\n",
    "\n",
    "# donner y_train et y_val plusieurs fois\n",
    "history = model.fit([X_train_A, X_train_B], [y_train, y_train], epochs=20,\n",
    "                    validation_data=([X_valid_A, X_valid_B], [y_valid, y_valid]))"
   ]
  },
  {
   "cell_type": "code",
   "execution_count": 120,
   "metadata": {},
   "outputs": [
    {
     "name": "stdout",
     "output_type": "stream",
     "text": [
      "5160/5160 [==============================] - 0s 31us/sample - loss: 0.3664 - output_loss: 0.3499 - dense_57_loss: 0.5136\n"
     ]
    }
   ],
   "source": [
    "total_loss, main_loss, aux_loss = model.evaluate([X_test_A, X_test_B], [y_test, y_test])"
   ]
  },
  {
   "cell_type": "code",
   "execution_count": null,
   "metadata": {},
   "outputs": [],
   "source": []
  }
 ],
 "metadata": {
  "kernelspec": {
   "display_name": "Python 3",
   "language": "python",
   "name": "python3"
  },
  "language_info": {
   "codemirror_mode": {
    "name": "ipython",
    "version": 3
   },
   "file_extension": ".py",
   "mimetype": "text/x-python",
   "name": "python",
   "nbconvert_exporter": "python",
   "pygments_lexer": "ipython3",
   "version": "3.7.3"
  }
 },
 "nbformat": 4,
 "nbformat_minor": 2
}
